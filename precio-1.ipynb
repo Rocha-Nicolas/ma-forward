{
 "cells": [
  {
   "cell_type": "code",
   "execution_count": null,
   "metadata": {},
   "outputs": [],
   "source": [
    "import yfinance as yf\n",
    "import pandas as pd\n",
    "import matplotlib.pyplot as plt\n",
    "\n",
    "# Descargar los datos de precios desde Yahoo Finance\n",
    "data = yf.download(\"ETH-USD\", start=\"2022-01-01\", end=\"2023-04-28\")\n",
    "\n",
    "# Calcular la diferencia entre Close y Open\n",
    "data[\"Diff\"] = data[\"Close\"] - data[\"Open\"]\n",
    "\n",
    "# Crear una nueva columna Color que indique si la vela es roja o verde\n",
    "data[\"Color\"] = data[\"Diff\"].apply(lambda x: \"green\" if x > 0 else \"red\")\n",
    "\n",
    "# Calcular la variación forward de 20 ruedas y crear una nueva columna\n",
    "data[\"Variacion Forward 20\"] = (data[\"Close\"].shift(-10) / data[\"Close\"] - 1) * 100\n",
    "\n",
    "# Calcular las medias móviles de 10 y 20 días\n",
    "data[\"MA10\"] = data[\"Close\"].rolling(10).mean()\n",
    "data[\"MA20\"] = data[\"Close\"].rolling(20).mean()\n",
    "\n",
    "# Crear un gráfico de velas y otro para el Forward\n",
    "fig, (ax1, ax2) = plt.subplots(2, 1, figsize=(15, 10), sharex=True, gridspec_kw={'height_ratios': [3, 1]})\n",
    "ax1.xaxis_date()\n",
    "\n",
    "# Plotear las velas\n",
    "ax1.vlines(data.index, data[\"Open\"], data[\"Close\"], color=data[\"Color\"], linewidth=2)\n",
    "ax1.grid(True)\n",
    "\n",
    "# Plotear las medias móviles\n",
    "ax1.plot(data.index, data[\"MA10\"], color=\"orange\", linewidth=1, label=\"MA10\")\n",
    "ax1.plot(data.index, data[\"MA20\"], color=\"purple\", linewidth=1, label=\"MA20\")\n",
    "ax1.legend()\n",
    "\n",
    "# Configurar el eje Y izquierdo (velas)\n",
    "ax1.set_ylabel(\"Precio (USD)\")\n",
    "ax1.set_title(\"Gráfico de velas de ETH/USD\")\n",
    "\n",
    "# Plotear la variación forward\n",
    "ax2.plot(data.index, data[\"Variacion Forward 20\"], color=\"blue\", linewidth=1)\n",
    "\n",
    "# Configurar el eje Y derecho (variación forward)\n",
    "ax2.set_ylabel(\"Variación Forward 20\")\n",
    "ax2.grid(True)\n",
    "\n",
    "# Ajustar la altura de los subplots\n",
    "plt.subplots_adjust(hspace=0)\n",
    "\n",
    "# Mostrar el gráfico\n",
    "plt.show()\n"
   ]
  }
 ],
 "metadata": {
  "kernelspec": {
   "display_name": "Python 3",
   "language": "python",
   "name": "python3"
  },
  "language_info": {
   "codemirror_mode": {
    "name": "ipython",
    "version": 3
   },
   "file_extension": ".py",
   "mimetype": "text/x-python",
   "name": "python",
   "nbconvert_exporter": "python",
   "pygments_lexer": "ipython3",
   "version": "3.11.1"
  },
  "orig_nbformat": 4
 },
 "nbformat": 4,
 "nbformat_minor": 2
}
